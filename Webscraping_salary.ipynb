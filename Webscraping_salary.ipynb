{
 "cells": [
  {
   "cell_type": "code",
   "execution_count": 2,
   "id": "0bb4ccf2",
   "metadata": {},
   "outputs": [],
   "source": [
    "import pandas as pd\n",
    "from bs4 import BeautifulSoup\n",
    "from selenium import webdriver\n",
    "from selenium.webdriver.support.ui import WebDriverWait\n",
    "from selenium.webdriver.support import expected_conditions as EC\n",
    "from selenium.webdriver.common.by import By\n",
    "import time\n",
    "import re"
   ]
  },
  {
   "cell_type": "code",
   "execution_count": 57,
   "id": "c0c2348d",
   "metadata": {},
   "outputs": [],
   "source": [
    "def get_webpage(company, page):\n",
    "    url = f\"https://www.ambitionbox.com/salaries/{company}-salaries?page={page}\"\n",
    "\n",
    "    headers = {\n",
    "        \"User-Agent\": \"Mozilla/5.0 (Macintosh; Intel Mac OS X 10_15_7) AppleWebKit/605.1.15 (KHTML, like Gecko) Version/14.1 Safari/605.1.15\"\n",
    "    }\n",
    "\n",
    "    # Set up the Selenium WebDriver with Safari\n",
    "    driver = webdriver.Safari()\n",
    "    driver.get(url)\n",
    "    time.sleep(3)  # wait for 3 seconds, adjust as necessary\n",
    "\n",
    "    html_content = driver.page_source\n",
    "    soup = BeautifulSoup(html_content, \"html.parser\")\n",
    "\n",
    "    driver.quit()\n",
    "    \n",
    "    return soup"
   ]
  },
  {
   "cell_type": "code",
   "execution_count": 58,
   "id": "48cdc508",
   "metadata": {},
   "outputs": [],
   "source": [
    "def get_salary_in_numbers(string):\n",
    "    if string.endswith('L'):\n",
    "        number = float(string[:-1]) * 100000  # Convert lakh to the actual number\n",
    "    elif string.endswith('K'):\n",
    "        number = float(string[:-1]) * 1000  # Convert thousand to the actual number\n",
    "    elif string.endswith('Cr'):\n",
    "        number = float(string[:-2]) * 10000000\n",
    "    else:\n",
    "        number = float(string)\n",
    "    return (round(number,-3))"
   ]
  },
  {
   "cell_type": "code",
   "execution_count": 59,
   "id": "525710a7",
   "metadata": {},
   "outputs": [],
   "source": [
    "def get_details(soup):\n",
    "    \n",
    "    exp_pattern = r\"Experience:(\\d+)-(\\d+)\\s+yrs\"\n",
    "\n",
    "    salary_pattern = r\"₹(\\d+(\\.\\d+)?)([a-zA-Z]+)\\/yr\\s*-\\s*₹(\\d+(\\.\\d+)?)([a-zA-Z]+)\\/yr\"\n",
    "\n",
    "    job_role={}\n",
    "\n",
    "    for job, salary in zip(soup.find_all('div', class_=\"card-content\"),soup.find_all('div', class_=\"avg-salary\")):\n",
    "        role = job.find_all('p')[0].text.strip()\n",
    "\n",
    "        text = job.find_all('span')[0].text.strip().replace(\"\\xa0\",'')\n",
    "\n",
    "        match = re.search(exp_pattern, text)\n",
    "\n",
    "        min_exp = match.group(1)\n",
    "        max_exp = match.group(2)\n",
    "\n",
    "        average = salary.find_all('div')[0].text.replace('\\n','').replace('\\t','')\n",
    "        average_salary = re.sub(r'[^\\d.]', '', average)  # Remove non-digit characters except dot\n",
    "        average_salary = float(average_salary .replace(',', ''))  # Remove comma and convert to float\n",
    "        average_salary= round(average_salary,-2)\n",
    "\n",
    "        salary_range = salary.find_all('p')[0].text\n",
    "        match = re.search(salary_pattern, salary_range)\n",
    "\n",
    "        min_salary = match.group(1) + match.group(3)\n",
    "        min_salary = get_salary_in_numbers(min_salary)\n",
    "\n",
    "        max_salary = match.group(4) + match.group(6)\n",
    "        max_salary = get_salary_in_numbers(max_salary)\n",
    "\n",
    "        temp_dict = {\n",
    "            'Minimum experience': min_exp,\n",
    "            'Maximum experience': max_exp,\n",
    "            'Average salary': average_salary,\n",
    "            'Minimum salary': min_salary,\n",
    "            'Maximum salary': max_salary,\n",
    "        }\n",
    "        job_role[role] = temp_dict\n",
    "    \n",
    "    return job_role"
   ]
  },
  {
   "cell_type": "code",
   "execution_count": null,
   "id": "49fb66ff",
   "metadata": {},
   "outputs": [],
   "source": []
  },
  {
   "cell_type": "markdown",
   "id": "576e658e",
   "metadata": {},
   "source": [
    "# Companies list"
   ]
  },
  {
   "cell_type": "code",
   "execution_count": 60,
   "id": "a9c85240",
   "metadata": {},
   "outputs": [],
   "source": [
    "companies_list = ['cognizant', 'tcs', 'wipro', 'infosys', 'hcl', 'accenture']\n",
    "\n",
    "for company in companies_list[1:]:\n",
    "    company_job_roles={}\n",
    "    for i in range(1,21):       # get content of 20 pages with each page having 10 jobs \n",
    "        soup = get_webpage(company, i)\n",
    "        job_roles = get_details(soup)\n",
    "        company_job_roles.update(job_roles)\n",
    "        \n",
    "    df = pd.DataFrame(company_job_roles).T.reset_index().rename(columns={'index':'Job roles'})\n",
    "    df.to_csv(f'{company}.csv')"
   ]
  },
  {
   "cell_type": "code",
   "execution_count": null,
   "id": "783b098c",
   "metadata": {},
   "outputs": [],
   "source": []
  }
 ],
 "metadata": {
  "kernelspec": {
   "display_name": "Python 3 (ipykernel)",
   "language": "python",
   "name": "python3"
  },
  "language_info": {
   "codemirror_mode": {
    "name": "ipython",
    "version": 3
   },
   "file_extension": ".py",
   "mimetype": "text/x-python",
   "name": "python",
   "nbconvert_exporter": "python",
   "pygments_lexer": "ipython3",
   "version": "3.9.12"
  }
 },
 "nbformat": 4,
 "nbformat_minor": 5
}
